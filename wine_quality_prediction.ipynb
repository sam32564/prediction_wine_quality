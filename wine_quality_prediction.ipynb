{
 "cells": [
  {
   "cell_type": "code",
   "execution_count": 1,
   "metadata": {},
   "outputs": [
    {
     "name": "stderr",
     "output_type": "stream",
     "text": [
      "\n",
      "Bad key \"text.kerning_factor\" on line 4 in\n",
      "/anaconda3/envs/myenv/lib/python3.6/site-packages/matplotlib/mpl-data/stylelib/_classic_test_patch.mplstyle.\n",
      "You probably need to get an updated matplotlibrc file from\n",
      "https://github.com/matplotlib/matplotlib/blob/v3.1.2/matplotlibrc.template\n",
      "or from the matplotlib source distribution\n"
     ]
    }
   ],
   "source": [
    "import numpy as np\n",
    "import pandas as pd\n",
    "import matplotlib.pyplot as plt\n",
    "import os, time\n",
    "import seaborn as sns\n",
    "\n",
    "from sklearn.model_selection import KFold,StratifiedKFold,cross_validate,train_test_split\n",
    "from sklearn.metrics import confusion_matrix,f1_score\n",
    "import xgboost as xgb\n",
    "from xgboost.sklearn import XGBClassifier\n",
    "\n",
    "path_raw_data = \"/anaconda3/envs/myenv\""
   ]
  },
  {
   "cell_type": "markdown",
   "metadata": {},
   "source": [
    "## 1. loading data"
   ]
  },
  {
   "cell_type": "code",
   "execution_count": 2,
   "metadata": {},
   "outputs": [],
   "source": [
    "data = pd.read_csv(os.path.join(path_raw_data,\"train.csv\"),sep = ',')"
   ]
  },
  {
   "cell_type": "code",
   "execution_count": 3,
   "metadata": {},
   "outputs": [
    {
     "data": {
      "text/html": [
       "<div>\n",
       "<style scoped>\n",
       "    .dataframe tbody tr th:only-of-type {\n",
       "        vertical-align: middle;\n",
       "    }\n",
       "\n",
       "    .dataframe tbody tr th {\n",
       "        vertical-align: top;\n",
       "    }\n",
       "\n",
       "    .dataframe thead th {\n",
       "        text-align: right;\n",
       "    }\n",
       "</style>\n",
       "<table border=\"1\" class=\"dataframe\">\n",
       "  <thead>\n",
       "    <tr style=\"text-align: right;\">\n",
       "      <th></th>\n",
       "      <th>acidity</th>\n",
       "      <th>citric_acid</th>\n",
       "      <th>sugar</th>\n",
       "      <th>total_sulfur_dioxide</th>\n",
       "      <th>alcohol</th>\n",
       "      <th>pH</th>\n",
       "      <th>free_sulfur_dioxide</th>\n",
       "      <th>quality</th>\n",
       "    </tr>\n",
       "  </thead>\n",
       "  <tbody>\n",
       "    <tr>\n",
       "      <th>0</th>\n",
       "      <td>83.721721</td>\n",
       "      <td>0.262484</td>\n",
       "      <td>21.137710</td>\n",
       "      <td>8558.587840</td>\n",
       "      <td>Low</td>\n",
       "      <td>3.61</td>\n",
       "      <td>168.77</td>\n",
       "      <td>0</td>\n",
       "    </tr>\n",
       "    <tr>\n",
       "      <th>1</th>\n",
       "      <td>82.005119</td>\n",
       "      <td>0.316941</td>\n",
       "      <td>21.281502</td>\n",
       "      <td>9424.589150</td>\n",
       "      <td>High</td>\n",
       "      <td>3.41</td>\n",
       "      <td>155.19</td>\n",
       "      <td>0</td>\n",
       "    </tr>\n",
       "    <tr>\n",
       "      <th>2</th>\n",
       "      <td>84.751683</td>\n",
       "      <td>0.320831</td>\n",
       "      <td>20.850128</td>\n",
       "      <td>9291.358179</td>\n",
       "      <td>Low</td>\n",
       "      <td>3.31</td>\n",
       "      <td>157.03</td>\n",
       "      <td>0</td>\n",
       "    </tr>\n",
       "    <tr>\n",
       "      <th>3</th>\n",
       "      <td>83.893382</td>\n",
       "      <td>0.353895</td>\n",
       "      <td>21.137710</td>\n",
       "      <td>10223.974974</td>\n",
       "      <td>Low</td>\n",
       "      <td>3.36</td>\n",
       "      <td>143.17</td>\n",
       "      <td>0</td>\n",
       "    </tr>\n",
       "    <tr>\n",
       "      <th>4</th>\n",
       "      <td>84.408362</td>\n",
       "      <td>0.281933</td>\n",
       "      <td>20.850128</td>\n",
       "      <td>11423.053711</td>\n",
       "      <td>Low</td>\n",
       "      <td>3.08</td>\n",
       "      <td>123.83</td>\n",
       "      <td>0</td>\n",
       "    </tr>\n",
       "  </tbody>\n",
       "</table>\n",
       "</div>"
      ],
      "text/plain": [
       "     acidity  citric_acid      sugar  total_sulfur_dioxide alcohol    pH  \\\n",
       "0  83.721721     0.262484  21.137710           8558.587840     Low  3.61   \n",
       "1  82.005119     0.316941  21.281502           9424.589150    High  3.41   \n",
       "2  84.751683     0.320831  20.850128           9291.358179     Low  3.31   \n",
       "3  83.893382     0.353895  21.137710          10223.974974     Low  3.36   \n",
       "4  84.408362     0.281933  20.850128          11423.053711     Low  3.08   \n",
       "\n",
       "   free_sulfur_dioxide  quality  \n",
       "0               168.77        0  \n",
       "1               155.19        0  \n",
       "2               157.03        0  \n",
       "3               143.17        0  \n",
       "4               123.83        0  "
      ]
     },
     "execution_count": 3,
     "metadata": {},
     "output_type": "execute_result"
    }
   ],
   "source": [
    "data.head(5)"
   ]
  },
  {
   "cell_type": "code",
   "execution_count": 4,
   "metadata": {},
   "outputs": [
    {
     "name": "stdout",
     "output_type": "stream",
     "text": [
      "<class 'pandas.core.frame.DataFrame'>\n",
      "RangeIndex: 1200 entries, 0 to 1199\n",
      "Data columns (total 8 columns):\n",
      " #   Column                Non-Null Count  Dtype  \n",
      "---  ------                --------------  -----  \n",
      " 0   acidity               1175 non-null   float64\n",
      " 1   citric_acid           1175 non-null   float64\n",
      " 2   sugar                 1177 non-null   float64\n",
      " 3   total_sulfur_dioxide  1200 non-null   float64\n",
      " 4   alcohol               1173 non-null   object \n",
      " 5   pH                    1200 non-null   float64\n",
      " 6   free_sulfur_dioxide   1200 non-null   float64\n",
      " 7   quality               1200 non-null   int64  \n",
      "dtypes: float64(6), int64(1), object(1)\n",
      "memory usage: 75.1+ KB\n"
     ]
    }
   ],
   "source": [
    "data.info()"
   ]
  },
  {
   "cell_type": "markdown",
   "metadata": {},
   "source": [
    "## 2. EDA"
   ]
  },
  {
   "cell_type": "code",
   "execution_count": 5,
   "metadata": {},
   "outputs": [
    {
     "data": {
      "text/html": [
       "<div>\n",
       "<style scoped>\n",
       "    .dataframe tbody tr th:only-of-type {\n",
       "        vertical-align: middle;\n",
       "    }\n",
       "\n",
       "    .dataframe tbody tr th {\n",
       "        vertical-align: top;\n",
       "    }\n",
       "\n",
       "    .dataframe thead th {\n",
       "        text-align: right;\n",
       "    }\n",
       "</style>\n",
       "<table border=\"1\" class=\"dataframe\">\n",
       "  <thead>\n",
       "    <tr style=\"text-align: right;\">\n",
       "      <th></th>\n",
       "      <th>acidity</th>\n",
       "      <th>citric_acid</th>\n",
       "      <th>sugar</th>\n",
       "      <th>total_sulfur_dioxide</th>\n",
       "      <th>pH</th>\n",
       "      <th>free_sulfur_dioxide</th>\n",
       "      <th>quality</th>\n",
       "    </tr>\n",
       "  </thead>\n",
       "  <tbody>\n",
       "    <tr>\n",
       "      <th>count</th>\n",
       "      <td>1175.000000</td>\n",
       "      <td>1175.000000</td>\n",
       "      <td>1177.000000</td>\n",
       "      <td>1200.000000</td>\n",
       "      <td>1200.000000</td>\n",
       "      <td>1200.000000</td>\n",
       "      <td>1200.000000</td>\n",
       "    </tr>\n",
       "    <tr>\n",
       "      <th>mean</th>\n",
       "      <td>85.382662</td>\n",
       "      <td>0.314076</td>\n",
       "      <td>21.892523</td>\n",
       "      <td>9344.359125</td>\n",
       "      <td>17.418375</td>\n",
       "      <td>156.390042</td>\n",
       "      <td>0.134167</td>\n",
       "    </tr>\n",
       "    <tr>\n",
       "      <th>std</th>\n",
       "      <td>2.961525</td>\n",
       "      <td>0.037978</td>\n",
       "      <td>2.049290</td>\n",
       "      <td>1093.218952</td>\n",
       "      <td>117.717194</td>\n",
       "      <td>17.040968</td>\n",
       "      <td>0.340973</td>\n",
       "    </tr>\n",
       "    <tr>\n",
       "      <th>min</th>\n",
       "      <td>79.258555</td>\n",
       "      <td>0.262484</td>\n",
       "      <td>19.556006</td>\n",
       "      <td>7992.356215</td>\n",
       "      <td>2.740000</td>\n",
       "      <td>22.750000</td>\n",
       "      <td>0.000000</td>\n",
       "    </tr>\n",
       "    <tr>\n",
       "      <th>25%</th>\n",
       "      <td>83.378401</td>\n",
       "      <td>0.279988</td>\n",
       "      <td>20.993919</td>\n",
       "      <td>8525.280098</td>\n",
       "      <td>3.210000</td>\n",
       "      <td>148.622500</td>\n",
       "      <td>0.000000</td>\n",
       "    </tr>\n",
       "    <tr>\n",
       "      <th>50%</th>\n",
       "      <td>84.751683</td>\n",
       "      <td>0.311107</td>\n",
       "      <td>21.425293</td>\n",
       "      <td>9058.203980</td>\n",
       "      <td>3.310000</td>\n",
       "      <td>161.010000</td>\n",
       "      <td>0.000000</td>\n",
       "    </tr>\n",
       "    <tr>\n",
       "      <th>75%</th>\n",
       "      <td>86.811606</td>\n",
       "      <td>0.344170</td>\n",
       "      <td>22.000458</td>\n",
       "      <td>9857.589805</td>\n",
       "      <td>3.402500</td>\n",
       "      <td>168.995000</td>\n",
       "      <td>0.000000</td>\n",
       "    </tr>\n",
       "    <tr>\n",
       "      <th>max</th>\n",
       "      <td>98.484504</td>\n",
       "      <td>0.456975</td>\n",
       "      <td>40.549539</td>\n",
       "      <td>17418.447393</td>\n",
       "      <td>999.000000</td>\n",
       "      <td>176.990000</td>\n",
       "      <td>1.000000</td>\n",
       "    </tr>\n",
       "  </tbody>\n",
       "</table>\n",
       "</div>"
      ],
      "text/plain": [
       "           acidity  citric_acid        sugar  total_sulfur_dioxide  \\\n",
       "count  1175.000000  1175.000000  1177.000000           1200.000000   \n",
       "mean     85.382662     0.314076    21.892523           9344.359125   \n",
       "std       2.961525     0.037978     2.049290           1093.218952   \n",
       "min      79.258555     0.262484    19.556006           7992.356215   \n",
       "25%      83.378401     0.279988    20.993919           8525.280098   \n",
       "50%      84.751683     0.311107    21.425293           9058.203980   \n",
       "75%      86.811606     0.344170    22.000458           9857.589805   \n",
       "max      98.484504     0.456975    40.549539          17418.447393   \n",
       "\n",
       "                pH  free_sulfur_dioxide      quality  \n",
       "count  1200.000000          1200.000000  1200.000000  \n",
       "mean     17.418375           156.390042     0.134167  \n",
       "std     117.717194            17.040968     0.340973  \n",
       "min       2.740000            22.750000     0.000000  \n",
       "25%       3.210000           148.622500     0.000000  \n",
       "50%       3.310000           161.010000     0.000000  \n",
       "75%       3.402500           168.995000     0.000000  \n",
       "max     999.000000           176.990000     1.000000  "
      ]
     },
     "execution_count": 5,
     "metadata": {},
     "output_type": "execute_result"
    }
   ],
   "source": [
    "data.describe()"
   ]
  },
  {
   "cell_type": "markdown",
   "metadata": {},
   "source": [
    "### 2.1 missing values"
   ]
  },
  {
   "cell_type": "code",
   "execution_count": 6,
   "metadata": {
    "scrolled": true
   },
   "outputs": [
    {
     "name": "stdout",
     "output_type": "stream",
     "text": [
      "drop 98 rows\n",
      "delete 1088 rows\n",
      "left 1088 rows\n"
     ]
    }
   ],
   "source": [
    "#1.drop NaN\n",
    "dim1 = data.shape[0]\n",
    "data = data.dropna()\n",
    "print('drop %d rows' %(dim1-data.shape[0]))\n",
    "\n",
    "#2.delete anomaly \n",
    "data=data[data.pH!=999]\n",
    "print('delete %d rows' %len(data.pH==999))\n",
    "print('left %d rows' %len(data.pH!=999))"
   ]
  },
  {
   "cell_type": "markdown",
   "metadata": {},
   "source": [
    "### 2.2 categorical variables "
   ]
  },
  {
   "cell_type": "code",
   "execution_count": 7,
   "metadata": {},
   "outputs": [
    {
     "name": "stdout",
     "output_type": "stream",
     "text": [
      "0    942\n",
      "1    146\n",
      "Name: quality, dtype: int64\n"
     ]
    },
    {
     "data": {
      "image/png": "[encoded data removed]",
      "text/plain": [
       "<Figure size 432x288 with 1 Axes>"
      ]
     },
     "metadata": {
      "needs_background": "light"
     },
     "output_type": "display_data"
    }
   ],
   "source": [
    "sns.countplot(data.quality)\n",
    "print(data.quality.value_counts())"
   ]
  },
  {
   "cell_type": "code",
   "execution_count": 8,
   "metadata": {},
   "outputs": [
    {
     "name": "stdout",
     "output_type": "stream",
     "text": [
      "Low        585\n",
      "Medium     360\n",
      "High       108\n",
      "lowW        20\n",
      "unknown     15\n",
      "Name: alcohol, dtype: int64\n"
     ]
    },
    {
     "data": {
      "image/png": "[encoded data removed]",
      "text/plain": [
       "<Figure size 432x288 with 1 Axes>"
      ]
     },
     "metadata": {
      "needs_background": "light"
     },
     "output_type": "display_data"
    }
   ],
   "source": [
    "sns.countplot(data.alcohol)\n",
    "print(data.alcohol.value_counts())"
   ]
  },
  {
   "cell_type": "code",
   "execution_count": 9,
   "metadata": {
    "scrolled": true
   },
   "outputs": [
    {
     "name": "stdout",
     "output_type": "stream",
     "text": [
      "remain 1073 rows\n"
     ]
    }
   ],
   "source": [
    "data = data[data.alcohol!='unknown']\n",
    "print('remain %d rows' %data.shape[0])"
   ]
  },
  {
   "cell_type": "markdown",
   "metadata": {},
   "source": [
    "### 2.3 continuous variables"
   ]
  },
  {
   "cell_type": "code",
   "execution_count": 10,
   "metadata": {},
   "outputs": [
    {
     "data": {
      "text/plain": [
       "<matplotlib.axes._subplots.AxesSubplot at 0x1a1a70d2e8>"
      ]
     },
     "execution_count": 10,
     "metadata": {},
     "output_type": "execute_result"
    },
    {
     "data": {
      "image/png": "[encoded data removed]",
      "text/plain": [
       "<Figure size 432x288 with 1 Axes>"
      ]
     },
     "metadata": {
      "needs_background": "light"
     },
     "output_type": "display_data"
    }
   ],
   "source": [
    "data.citric_acid.hist()"
   ]
  },
  {
   "cell_type": "code",
   "execution_count": 11,
   "metadata": {
    "scrolled": true
   },
   "outputs": [
    {
     "data": {
      "text/plain": [
       "<matplotlib.axes._subplots.AxesSubplot at 0x1a1a816978>"
      ]
     },
     "execution_count": 11,
     "metadata": {},
     "output_type": "execute_result"
    },
    {
     "data": {
      "image/png": "[encoded data removed]",
      "text/plain": [
       "<Figure size 432x288 with 1 Axes>"
      ]
     },
     "metadata": {
      "needs_background": "light"
     },
     "output_type": "display_data"
    }
   ],
   "source": [
    "data.total_sulfur_dioxide.hist(color='g')"
   ]
  },
  {
   "cell_type": "markdown",
   "metadata": {},
   "source": [
    "### 2.4 objective variable"
   ]
  },
  {
   "cell_type": "code",
   "execution_count": 12,
   "metadata": {},
   "outputs": [
    {
     "data": {
      "text/plain": [
       "Text(0.5, 1.0, 'boxplots grouped by quality')"
      ]
     },
     "execution_count": 12,
     "metadata": {},
     "output_type": "execute_result"
    },
    {
     "data": {
      "image/png": "[encoded data removed]",
      "text/plain": [
       "<Figure size 432x288 with 1 Axes>"
      ]
     },
     "metadata": {
      "needs_background": "light"
     },
     "output_type": "display_data"
    }
   ],
   "source": [
    "fig, axes = plt.subplots()\n",
    "sns.boxplot(x = 'alcohol', y = 'acidity', hue ='quality',data = data, orient = 'v', ax=axes)\n",
    "axes.set_title('boxplots grouped by quality')"
   ]
  },
  {
   "cell_type": "code",
   "execution_count": 13,
   "metadata": {},
   "outputs": [
    {
     "data": {
      "image/png": "[encoded data removed]",
      "text/plain": [
       "<Figure size 432x288 with 1 Axes>"
      ]
     },
     "metadata": {
      "needs_background": "light"
     },
     "output_type": "display_data"
    }
   ],
   "source": [
    "d1 = data.quality[data.quality==0]\n",
    "d2 = data.quality[data.quality==1]\n",
    "d1['citric_acid'] = data.citric_acid[data.quality==0]\n",
    "d1['pH'] = data.pH[data.quality==0]\n",
    "d2 = pd.DataFrame(columns=['citric_acid', 'pH'])\n",
    "d2['citric_acid'] = data.citric_acid[data.quality==1]\n",
    "d2['pH'] = data.pH[data.quality==1]\n",
    "\n",
    "plt.scatter(d1['citric_acid'], d1['pH'], color='#d62728')\n",
    "plt.scatter(d2['citric_acid'], d2['pH'], color='#bcbd22')\n",
    "\n",
    "#plt.scatter('citric_acid','pH','quality', data=data,c=y, marker='o', alpha=1,cmap='coolwarm')\n",
    "plt.xlabel('citric_acid')\n",
    "plt.ylabel('pH')\n",
    "plt.show()"
   ]
  },
  {
   "cell_type": "code",
   "execution_count": 14,
   "metadata": {},
   "outputs": [
    {
     "data": {
      "text/html": [
       "<div>\n",
       "<style scoped>\n",
       "    .dataframe tbody tr th:only-of-type {\n",
       "        vertical-align: middle;\n",
       "    }\n",
       "\n",
       "    .dataframe tbody tr th {\n",
       "        vertical-align: top;\n",
       "    }\n",
       "\n",
       "    .dataframe thead th {\n",
       "        text-align: right;\n",
       "    }\n",
       "</style>\n",
       "<table border=\"1\" class=\"dataframe\">\n",
       "  <thead>\n",
       "    <tr style=\"text-align: right;\">\n",
       "      <th></th>\n",
       "      <th>acidity</th>\n",
       "      <th>citric_acid</th>\n",
       "      <th>sugar</th>\n",
       "      <th>total_sulfur_dioxide</th>\n",
       "      <th>pH</th>\n",
       "      <th>free_sulfur_dioxide</th>\n",
       "    </tr>\n",
       "    <tr>\n",
       "      <th>quality</th>\n",
       "      <th></th>\n",
       "      <th></th>\n",
       "      <th></th>\n",
       "      <th></th>\n",
       "      <th></th>\n",
       "      <th></th>\n",
       "    </tr>\n",
       "  </thead>\n",
       "  <tbody>\n",
       "    <tr>\n",
       "      <th>0</th>\n",
       "      <td>85.210370</td>\n",
       "      <td>0.31054</td>\n",
       "      <td>21.823860</td>\n",
       "      <td>9400.856934</td>\n",
       "      <td>3.316203</td>\n",
       "      <td>155.523506</td>\n",
       "    </tr>\n",
       "    <tr>\n",
       "      <th>1</th>\n",
       "      <td>86.222553</td>\n",
       "      <td>0.33366</td>\n",
       "      <td>22.288041</td>\n",
       "      <td>8930.448255</td>\n",
       "      <td>3.296096</td>\n",
       "      <td>162.752877</td>\n",
       "    </tr>\n",
       "  </tbody>\n",
       "</table>\n",
       "</div>"
      ],
      "text/plain": [
       "           acidity  citric_acid      sugar  total_sulfur_dioxide        pH  \\\n",
       "quality                                                                      \n",
       "0        85.210370      0.31054  21.823860           9400.856934  3.316203   \n",
       "1        86.222553      0.33366  22.288041           8930.448255  3.296096   \n",
       "\n",
       "         free_sulfur_dioxide  \n",
       "quality                       \n",
       "0                 155.523506  \n",
       "1                 162.752877  "
      ]
     },
     "execution_count": 14,
     "metadata": {},
     "output_type": "execute_result"
    }
   ],
   "source": [
    "data_q = data.groupby(\"quality\").mean()\n",
    "data_q"
   ]
  },
  {
   "cell_type": "code",
   "execution_count": 15,
   "metadata": {
    "scrolled": true
   },
   "outputs": [
    {
     "data": {
      "image/png": "[encoded data removed]",
      "text/plain": [
       "<Figure size 432x288 with 1 Axes>"
      ]
     },
     "metadata": {
      "needs_background": "light"
     },
     "output_type": "display_data"
    }
   ],
   "source": [
    "a = data.total_sulfur_dioxide[data.quality==0]\n",
    "b = data.total_sulfur_dioxide[data.quality==1]\n",
    "\n",
    "#bins = np.linspace(75, 100, 20)\n",
    "#bins = np.linspace(0.30, 0.46, 20)\n",
    "#bins = np.linspace(19, 40, 20)\n",
    "bins = np.linspace(7900, 10000, 20)\n",
    "\n",
    "plt.hist(a, bins, alpha = 0.5, label='0')\n",
    "plt.hist(b, bins, alpha = 0.5, label='1')\n",
    "plt.legend(loc='upper left')\n",
    "\n",
    "plt.show()"
   ]
  },
  {
   "cell_type": "markdown",
   "metadata": {},
   "source": [
    "## 3. correlation analysis (with Label encoding)"
   ]
  },
  {
   "cell_type": "code",
   "execution_count": 16,
   "metadata": {
    "scrolled": true
   },
   "outputs": [
    {
     "data": {
      "image/png": "[encoded data removed]",
      "text/plain": [
       "<Figure size 432x288 with 2 Axes>"
      ]
     },
     "metadata": {
      "needs_background": "light"
     },
     "output_type": "display_data"
    }
   ],
   "source": [
    "from sklearn.preprocessing import LabelEncoder\n",
    "y = data['quality']\n",
    "data2 = data.drop(['quality'],axis=1)\n",
    "enc = LabelEncoder()\n",
    "data2['alcohol']= enc.fit_transform(data2['alcohol'])\n",
    "sns.heatmap(data2.corr().abs(),annot=True)\n",
    "plt.show()"
   ]
  },
  {
   "cell_type": "markdown",
   "metadata": {},
   "source": [
    "## 4. xgboost"
   ]
  },
  {
   "cell_type": "code",
   "execution_count": 17,
   "metadata": {},
   "outputs": [
    {
     "name": "stdout",
     "output_type": "stream",
     "text": [
      "fold complete: 1\n",
      "target ratio: 0.13692946058091288\n",
      "fold complete: 2\n",
      "target ratio: 0.13692946058091288\n",
      "fold complete: 3\n",
      "target ratio: 0.13692946058091288\n",
      "fold complete: 4\n",
      "target ratio: 0.13692946058091288\n",
      "fold complete: 5\n",
      "target ratio: 0.13674033149171272\n",
      "fold complete: 6\n",
      "target ratio: 0.13674033149171272\n",
      "fold complete: 7\n",
      "target ratio: 0.13674033149171272\n",
      "fold complete: 8\n",
      "target ratio: 0.13674033149171272\n",
      "fold complete: 9\n",
      "target ratio: 0.13674033149171272\n",
      "fold complete: 10\n",
      "target ratio: 0.13674033149171272\n",
      "Time CV (s): 0.8615269660949707\n"
     ]
    }
   ],
   "source": [
    "SEED = 0\n",
    "NFOLDS = 10\n",
    "Kf = StratifiedKFold(NFOLDS,random_state=SEED,shuffle=True)\n",
    "x_train, x_test, y_train, y_test = train_test_split(preprocessing.scale(data2), y, )\n",
    "te_index ={}\n",
    "y_te = {}\n",
    "pred_pro = {}\n",
    "meta_y = np.zeros((len(x_test),NFOLDS))\n",
    "tStart = time.time()\n",
    "i = 0\n",
    "for train_index, test_index in Kf.split(x_train,y_train):\n",
    "    te_index[i] = test_index\n",
    "    x_tr = x_train.iloc[train_index]\n",
    "    y_tr = y_train.iloc[train_index]\n",
    "    x_te = x_train.iloc[test_index]\n",
    "    y_te[i] = y_train.iloc[test_index]\n",
    "    clf_cv = xgb.XGBClassifier(n_jobs=-1)\n",
    "    clf_cv.fit(x_tr, y_tr)\n",
    "    pred_pro[i] = clf_cv.predict_proba(x_te)[:,1]\n",
    "    meta_y[:,i] = clf_cv.predict_proba(x_test)[:,1]\n",
    "    print('fold complete:',i+1)\n",
    "    print('target ratio:',y_tr.mean())\n",
    "    i = i+1\n",
    "\n",
    "tEnd = time.time()\n",
    "print('Time CV (s):',tEnd-tStart)"
   ]
  },
  {
   "cell_type": "code",
   "execution_count": 18,
   "metadata": {},
   "outputs": [],
   "source": [
    "threshold = np.arange(0.1,0.95,0.05)\n",
    "f1_df_xgb = pd.DataFrame()\n",
    "w = 0\n",
    "for thres in threshold:\n",
    "    for i in range(NFOLDS):\n",
    "        f1_df_xgb.loc[w,'threshold'] = thres\n",
    "        f1_df_xgb.loc[w,'f1_score'] = f1_score(y_te[i],np.where(pred_pro[i] > thres ,1,0))\n",
    "        w = w + 1\n",
    "\n",
    "f1_mean_xgb = f1_df_xgb.groupby('threshold').mean().reset_index().sort_values('f1_score',ascending=False).head(1)\n",
    "\n",
    "f1_std_xgb = f1_df_xgb.groupby('threshold').std().reset_index().sort_values('f1_score',ascending=False)"
   ]
  },
  {
   "cell_type": "code",
   "execution_count": 19,
   "metadata": {
    "scrolled": true
   },
   "outputs": [
    {
     "name": "stdout",
     "output_type": "stream",
     "text": [
      "threshold: [0.1]\n",
      "mean: [0.52010021]\n",
      "std: [0.08911583]\n"
     ]
    }
   ],
   "source": [
    "print('threshold:',f1_mean_xgb['threshold'].values)\n",
    "print('mean:',f1_mean_xgb['f1_score'].values)\n",
    "print('std:',f1_std_xgb.loc[f1_mean_xgb.index,'f1_score'].values)"
   ]
  },
  {
   "cell_type": "code",
   "execution_count": 20,
   "metadata": {},
   "outputs": [
    {
     "data": {
      "text/plain": [
       "XGBClassifier(base_score=0.5, booster='gbtree', colsample_bylevel=1,\n",
       "              colsample_bynode=1, colsample_bytree=1, gamma=0, gpu_id=-1,\n",
       "              importance_type='gain', interaction_constraints='',\n",
       "              learning_rate=0.300000012, max_delta_step=0, max_depth=6,\n",
       "              min_child_weight=1, missing=nan, monotone_constraints='()',\n",
       "              n_estimators=100, n_jobs=-1, num_parallel_tree=1, random_state=0,\n",
       "              reg_alpha=0, reg_lambda=1, scale_pos_weight=1, subsample=1,\n",
       "              tree_method='exact', validate_parameters=1, verbosity=None)"
      ]
     },
     "execution_count": 20,
     "metadata": {},
     "output_type": "execute_result"
    }
   ],
   "source": [
    "clf = xgb.XGBClassifier(n_jobs=-1)\n",
    "clf.fit(x_train, y_train)"
   ]
  },
  {
   "cell_type": "code",
   "execution_count": 21,
   "metadata": {},
   "outputs": [],
   "source": [
    "pred_pro4sub = clf.predict_proba(x_test)[:,1]"
   ]
  },
  {
   "cell_type": "code",
   "execution_count": 27,
   "metadata": {},
   "outputs": [
    {
     "data": {
      "text/plain": [
       "Text(0.5, 0, 'Relative Importance')"
      ]
     },
     "execution_count": 27,
     "metadata": {},
     "output_type": "execute_result"
    },
    {
     "data": {
      "image/png": "[encoded data removed]",
      "text/plain": [
       "<Figure size 360x360 with 1 Axes>"
      ]
     },
     "metadata": {
      "needs_background": "light"
     },
     "output_type": "display_data"
    }
   ],
   "source": [
    "importances = clf.feature_importances_\n",
    "indices = np.argsort(importances)\n",
    "features = x_train.columns\n",
    "\n",
    "plt.figure(figsize=(5,5)) \n",
    "plt.title('xgboost Feature Importances')\n",
    "plt.barh(range(len(indices)), importances[indices], color='b', align='center')\n",
    "plt.yticks(range(len(indices)), features[indices])\n",
    "plt.xlabel('Relative Importance')"
   ]
  },
  {
   "cell_type": "code",
   "execution_count": null,
   "metadata": {},
   "outputs": [],
   "source": []
  }
 ],
 "metadata": {
  "kernelspec": {
   "display_name": "Python 3",
   "language": "python",
   "name": "python3"
  },
  "language_info": {
   "codemirror_mode": {
    "name": "ipython",
    "version": 3
   },
   "file_extension": ".py",
   "mimetype": "text/x-python",
   "name": "python",
   "nbconvert_exporter": "python",
   "pygments_lexer": "ipython3",
   "version": "3.6.8"
  }
 },
 "nbformat": 4,
 "nbformat_minor": 4
}
